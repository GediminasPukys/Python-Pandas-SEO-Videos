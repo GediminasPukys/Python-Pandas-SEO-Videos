{
 "cells": [
  {
   "cell_type": "code",
   "execution_count": null,
   "metadata": {},
   "outputs": [],
   "source": [
    "# Check documentation: \n",
    "# https://pandas.pydata.org/pandas-docs/stable/reference/api/pandas.DataFrame.pivot.html\n",
    "#\n",
    "# Video about this notebook: \n",
    "# https://youtu.be/E5v-kUi_NUI"
   ]
  },
  {
   "cell_type": "code",
   "execution_count": 96,
   "metadata": {},
   "outputs": [],
   "source": [
    "import pandas as pd"
   ]
  },
  {
   "cell_type": "code",
   "execution_count": 97,
   "metadata": {},
   "outputs": [],
   "source": [
    "dfTestCSV = pd.DataFrame(pd.read_csv('./dfanalyticstestdata1.csv', header=2, sep=\"\\t\", index_col=0))"
   ]
  },
  {
   "cell_type": "code",
   "execution_count": 98,
   "metadata": {},
   "outputs": [
    {
     "data": {
      "text/html": [
       "<div>\n",
       "<style scoped>\n",
       "    .dataframe tbody tr th:only-of-type {\n",
       "        vertical-align: middle;\n",
       "    }\n",
       "\n",
       "    .dataframe tbody tr th {\n",
       "        vertical-align: top;\n",
       "    }\n",
       "\n",
       "    .dataframe thead th {\n",
       "        text-align: right;\n",
       "    }\n",
       "</style>\n",
       "<table border=\"1\" class=\"dataframe\">\n",
       "  <thead>\n",
       "    <tr style=\"text-align: right;\">\n",
       "      <th></th>\n",
       "      <th>ga:pagePath</th>\n",
       "      <th>ga:pageviews</th>\n",
       "      <th>ID_GA</th>\n",
       "    </tr>\n",
       "  </thead>\n",
       "  <tbody>\n",
       "    <tr>\n",
       "      <th>66</th>\n",
       "      <td>/incoming/Tochter-Alexis-Olympia-Das-Geheimnis...</td>\n",
       "      <td>7</td>\n",
       "      <td>10061</td>\n",
       "    </tr>\n",
       "    <tr>\n",
       "      <th>135</th>\n",
       "      <td>/people-tv/international/tochter-alexis-olympi...</td>\n",
       "      <td>1</td>\n",
       "      <td>10061</td>\n",
       "    </tr>\n",
       "    <tr>\n",
       "      <th>91</th>\n",
       "      <td>/news/-id1510256.html</td>\n",
       "      <td>1</td>\n",
       "      <td>1510256</td>\n",
       "    </tr>\n",
       "    <tr>\n",
       "      <th>151</th>\n",
       "      <td>/services/datenschutzbestimmungen-id151553.html</td>\n",
       "      <td>5</td>\n",
       "      <td>151553</td>\n",
       "    </tr>\n",
       "    <tr>\n",
       "      <th>83</th>\n",
       "      <td>/life/besten-seite-sind-meine-ferien-meta-titl...</td>\n",
       "      <td>1</td>\n",
       "      <td>1742</td>\n",
       "    </tr>\n",
       "    <tr>\n",
       "      <th>51</th>\n",
       "      <td>/incoming/schreiben-sie-uns-id19186.html1</td>\n",
       "      <td>28</td>\n",
       "      <td>19186</td>\n",
       "    </tr>\n",
       "    <tr>\n",
       "      <th>109</th>\n",
       "      <td>/news/politik/Gegen-Gleichstellung-Homosexuell...</td>\n",
       "      <td>2</td>\n",
       "      <td>19969</td>\n",
       "    </tr>\n",
       "    <tr>\n",
       "      <th>154</th>\n",
       "      <td>/services/marktplatz/ticino-weekend-id2241980....</td>\n",
       "      <td>1</td>\n",
       "      <td>2241980</td>\n",
       "    </tr>\n",
       "    <tr>\n",
       "      <th>20</th>\n",
       "      <td>/incoming/Detailhandel-verliert-1-Prozent-Umsa...</td>\n",
       "      <td>1</td>\n",
       "      <td>22672</td>\n",
       "    </tr>\n",
       "    <tr>\n",
       "      <th>189</th>\n",
       "      <td>/sport/videoformate/dino/-id2483959.html</td>\n",
       "      <td>1</td>\n",
       "      <td>2483959</td>\n",
       "    </tr>\n",
       "  </tbody>\n",
       "</table>\n",
       "</div>"
      ],
      "text/plain": [
       "                                           ga:pagePath  ga:pageviews    ID_GA\n",
       "66   /incoming/Tochter-Alexis-Olympia-Das-Geheimnis...             7    10061\n",
       "135  /people-tv/international/tochter-alexis-olympi...             1    10061\n",
       "91                               /news/-id1510256.html             1  1510256\n",
       "151    /services/datenschutzbestimmungen-id151553.html             5   151553\n",
       "83   /life/besten-seite-sind-meine-ferien-meta-titl...             1     1742\n",
       "51           /incoming/schreiben-sie-uns-id19186.html1            28    19186\n",
       "109  /news/politik/Gegen-Gleichstellung-Homosexuell...             2    19969\n",
       "154  /services/marktplatz/ticino-weekend-id2241980....             1  2241980\n",
       "20   /incoming/Detailhandel-verliert-1-Prozent-Umsa...             1    22672\n",
       "189           /sport/videoformate/dino/-id2483959.html             1  2483959"
      ]
     },
     "execution_count": 98,
     "metadata": {},
     "output_type": "execute_result"
    }
   ],
   "source": [
    "dfTestCSV['ID_GA'] = dfTestCSV['ga:pagePath'].str.extract('(?:.*id)([0-9]+)(?:.html)')\n",
    "dfTestCSV = dfTestCSV.sort_values(by='ID_GA')\n",
    "dfTestCSV.head(10)"
   ]
  },
  {
   "cell_type": "code",
   "execution_count": 99,
   "metadata": {},
   "outputs": [
    {
     "data": {
      "text/plain": [
       "194"
      ]
     },
     "execution_count": 99,
     "metadata": {},
     "output_type": "execute_result"
    }
   ],
   "source": [
    "len(dfTestCSV)\n"
   ]
  },
  {
   "cell_type": "code",
   "execution_count": 100,
   "metadata": {},
   "outputs": [
    {
     "data": {
      "text/html": [
       "<div>\n",
       "<style scoped>\n",
       "    .dataframe tbody tr th:only-of-type {\n",
       "        vertical-align: middle;\n",
       "    }\n",
       "\n",
       "    .dataframe tbody tr th {\n",
       "        vertical-align: top;\n",
       "    }\n",
       "\n",
       "    .dataframe thead tr th {\n",
       "        text-align: left;\n",
       "    }\n",
       "\n",
       "    .dataframe thead tr:last-of-type th {\n",
       "        text-align: right;\n",
       "    }\n",
       "</style>\n",
       "<table border=\"1\" class=\"dataframe\">\n",
       "  <thead>\n",
       "    <tr>\n",
       "      <th></th>\n",
       "      <th>count</th>\n",
       "      <th>sum</th>\n",
       "    </tr>\n",
       "    <tr>\n",
       "      <th></th>\n",
       "      <th>ga:pageviews</th>\n",
       "      <th>ga:pageviews</th>\n",
       "    </tr>\n",
       "    <tr>\n",
       "      <th>ID_GA</th>\n",
       "      <th></th>\n",
       "      <th></th>\n",
       "    </tr>\n",
       "  </thead>\n",
       "  <tbody>\n",
       "    <tr>\n",
       "      <th>10061</th>\n",
       "      <td>2</td>\n",
       "      <td>8</td>\n",
       "    </tr>\n",
       "    <tr>\n",
       "      <th>1510256</th>\n",
       "      <td>1</td>\n",
       "      <td>1</td>\n",
       "    </tr>\n",
       "    <tr>\n",
       "      <th>151553</th>\n",
       "      <td>1</td>\n",
       "      <td>5</td>\n",
       "    </tr>\n",
       "    <tr>\n",
       "      <th>1742</th>\n",
       "      <td>1</td>\n",
       "      <td>1</td>\n",
       "    </tr>\n",
       "    <tr>\n",
       "      <th>19186</th>\n",
       "      <td>1</td>\n",
       "      <td>28</td>\n",
       "    </tr>\n",
       "    <tr>\n",
       "      <th>19969</th>\n",
       "      <td>1</td>\n",
       "      <td>2</td>\n",
       "    </tr>\n",
       "    <tr>\n",
       "      <th>2241980</th>\n",
       "      <td>1</td>\n",
       "      <td>1</td>\n",
       "    </tr>\n",
       "    <tr>\n",
       "      <th>22672</th>\n",
       "      <td>1</td>\n",
       "      <td>1</td>\n",
       "    </tr>\n",
       "    <tr>\n",
       "      <th>2483959</th>\n",
       "      <td>1</td>\n",
       "      <td>1</td>\n",
       "    </tr>\n",
       "    <tr>\n",
       "      <th>26545</th>\n",
       "      <td>1</td>\n",
       "      <td>1</td>\n",
       "    </tr>\n",
       "  </tbody>\n",
       "</table>\n",
       "</div>"
      ],
      "text/plain": [
       "               count          sum\n",
       "        ga:pageviews ga:pageviews\n",
       "ID_GA                            \n",
       "10061              2            8\n",
       "1510256            1            1\n",
       "151553             1            5\n",
       "1742               1            1\n",
       "19186              1           28\n",
       "19969              1            2\n",
       "2241980            1            1\n",
       "22672              1            1\n",
       "2483959            1            1\n",
       "26545              1            1"
      ]
     },
     "execution_count": 100,
     "metadata": {},
     "output_type": "execute_result"
    }
   ],
   "source": [
    "dfTestCSV = pd.pivot_table(dfTestCSV,index='ID_GA', values='ga:pageviews', aggfunc=['count', 'sum'])\n",
    "dfTestCSV = dfTestCSV.sort_values(by='ID_GA')\n",
    "dfTestCSV.head(10)"
   ]
  },
  {
   "cell_type": "code",
   "execution_count": 94,
   "metadata": {},
   "outputs": [
    {
     "data": {
      "text/plain": [
       "147"
      ]
     },
     "execution_count": 94,
     "metadata": {},
     "output_type": "execute_result"
    }
   ],
   "source": [
    "len(dfTestCSV)\n"
   ]
  },
  {
   "cell_type": "code",
   "execution_count": null,
   "metadata": {},
   "outputs": [],
   "source": []
  },
  {
   "cell_type": "code",
   "execution_count": null,
   "metadata": {},
   "outputs": [],
   "source": []
  },
  {
   "cell_type": "code",
   "execution_count": null,
   "metadata": {},
   "outputs": [],
   "source": []
  }
 ],
 "metadata": {
  "kernelspec": {
   "display_name": "Python 3",
   "language": "python",
   "name": "python3"
  },
  "language_info": {
   "codemirror_mode": {
    "name": "ipython",
    "version": 3
   },
   "file_extension": ".py",
   "mimetype": "text/x-python",
   "name": "python",
   "nbconvert_exporter": "python",
   "pygments_lexer": "ipython3",
   "version": "3.7.2"
  }
 },
 "nbformat": 4,
 "nbformat_minor": 2
}
