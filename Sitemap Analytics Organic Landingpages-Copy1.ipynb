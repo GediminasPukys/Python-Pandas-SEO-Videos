{
 "cells": [
  {
   "cell_type": "code",
   "execution_count": 1,
   "metadata": {
    "scrolled": true
   },
   "outputs": [
    {
     "name": "stdout",
     "output_type": "stream",
     "text": [
      "1496134439\n"
     ]
    }
   ],
   "source": [
    "#date handling\n",
    "import datetime\n",
    "import time\n",
    "\n",
    "to = datetime.datetime.now()\n",
    "ye = datetime.datetime.now() - datetime.timedelta(days=1)\n",
    "ye1 = datetime.datetime.now() - datetime.timedelta(days=2)\n",
    "ye2 = datetime.datetime.now() - datetime.timedelta(days=3)\n",
    "\n",
    "tos = to.strftime(\"%Y-%m-%d\")\n",
    "toHs = to.strftime(\"%Y-%m-%d %H:%M\")\n",
    "\n",
    "yes = ye.strftime(\"%Y-%m-%d\")\n",
    "ye1s = ye1.strftime(\"%Y-%m-%d\")\n",
    "ye2s = ye2.strftime(\"%Y-%m-%d\")\n",
    "x = time.time()\n",
    "x = int(x)\n",
    "x48 = x - 31536000\n",
    "x48 = x48*1000\n",
    "\n",
    "print x"
   ]
  },
  {
   "cell_type": "code",
   "execution_count": 2,
   "metadata": {
    "scrolled": false
   },
   "outputs": [],
   "source": [
    "#get sitmaps URLs \n",
    "import pymongo\n",
    "import pandas as pd\n",
    "pd.set_option('display.max_colwidth', -1)\n",
    "\n",
    "con = pymongo.MongoClient(['162.21.24.111:27017'])\n",
    "collsitemap = con.sitemap.newssitemap2\n",
    "sitemapsdata = collsitemap.find({'unixCrawlat':{'$gte':x48}})\n",
    "dfsitemap = pd.DataFrame(list(sitemapsdata))\n",
    "dfsitemap = dfsitemap.drop(\"keywords\",1)\n",
    "dfsitemap = dfsitemap.drop(\"publication_date\",1)\n",
    "dfsitemap = dfsitemap.drop(\"unixCrawlat\",1)\n",
    "dfsitemap = dfsitemap.drop(\"crawlat\",1)\n",
    "dfsitemap = dfsitemap.drop(\"_id\",1)\n",
    "#dfsitemap['articleid2'] = dfsitemap['url'].str.replace(\".*-id\",\"\").str.replace(\"[^0-9]\",\"\");\n",
    "#dfsitemap = dfsitemap.drop(\"url\",1)\n",
    "#dfsitemap"
   ]
  },
  {
   "cell_type": "code",
   "execution_count": null,
   "metadata": {},
   "outputs": [],
   "source": []
  },
  {
   "cell_type": "code",
   "execution_count": 3,
   "metadata": {
    "scrolled": true
   },
   "outputs": [],
   "source": [
    "from apiclient.discovery import build\n",
    "from oauth2client.service_account import ServiceAccountCredentials\n",
    "import numpy as np\n",
    "\n",
    "SCOPES = ['https://www.googleapis.com/auth/analytics.readonly']\n",
    "KEY_FILE_LOCATION = '/filer/wio/AnalyticsAPI-450d0d42f74e.json'\n",
    "#KEY_FILE_LOCATION = '/Users/wio/AnalyticsAPI-450d0d42f74e.json'\n",
    "VIEW_ID = '125690929'\n",
    "\n",
    "def initialize_analyticsreporting():\n",
    "  credentials = ServiceAccountCredentials.from_json_keyfile_name(\n",
    "      KEY_FILE_LOCATION, SCOPES)\n",
    "  analytics = build('analytics', 'v4', credentials=credentials)\n",
    "  return analytics\n",
    "\n",
    "def get_report(analytics):\n",
    "  return analytics.reports().batchGet(\n",
    "      body={\n",
    "        'reportRequests': [\n",
    "        {\n",
    "          'viewId': VIEW_ID,\n",
    "          'dateRanges': [{'startDate': '2daysAgo', 'endDate': 'today'}],\n",
    "          'metrics': [{'expression': 'ga:sessions'}],\n",
    "          'pageSize': 50000,\n",
    "          'dimensionFilterClauses': [\n",
    "              {\n",
    "                    'filters': [\n",
    "                          {\n",
    "                          'dimensionName': 'ga:landingPagePath',\n",
    "                          'operator': 'REGEXP',\n",
    "                          'expressions': [\n",
    "                            '-id'\n",
    "                          ]}\n",
    "                    ]\n",
    "              }\n",
    "          ],\n",
    "          'orderBys':[{\n",
    "                  'fieldName': 'ga:sessions',\n",
    "                  'orderType': 'VALUE',\n",
    "                  'sortOrder': 'DESCENDING',\n",
    "                    }],\n",
    "          'dimensions': [{'name': 'ga:landingPagePath'}],\n",
    "          'samplingLevel': 'LARGE'\n",
    "        }]\n",
    "      }\n",
    "  ).execute()\n",
    "\n",
    "def print_response(response):\n",
    "  \"\"\"Parses and prints the Analytics Reporting API V4 response\"\"\"\n",
    "\n",
    "  for report in response.get('reports', []):\n",
    "    columnHeader = report.get('columnHeader', {})\n",
    "    dimensionHeaders = columnHeader.get('dimensions', [])\n",
    "    metricHeaders = columnHeader.get('metricHeader', {}).get('metricHeaderEntries', [])\n",
    "    rows = report.get('data', {}).get('rows', [])\n",
    "\n",
    "    global dfanalytics\n",
    "    dfanalytics = pd.DataFrame(list(rows))\n",
    "    \n",
    "def main():\n",
    "\n",
    "  analytics = initialize_analyticsreporting()\n",
    "  response = get_report(analytics)\n",
    "  print_response(response)\n",
    "\n",
    "if __name__ == '__main__':\n",
    "  main()"
   ]
  },
  {
   "cell_type": "code",
   "execution_count": null,
   "metadata": {},
   "outputs": [],
   "source": []
  },
  {
   "cell_type": "code",
   "execution_count": 4,
   "metadata": {},
   "outputs": [],
   "source": [
    "# bad bad bad \n",
    "tags = dfanalytics['dimensions'].apply(pd.Series)\n",
    "tags = tags.rename(columns = lambda x : 'landingpage')\n",
    "dfanalytics = pd.concat([dfanalytics[:], tags[:]], axis=1)  \n",
    "\n",
    "tags = dfanalytics['metrics'].apply(pd.Series)\n",
    "tags = tags.rename(columns = lambda x : 'metrics2')\n",
    "dfanalytics = pd.concat([dfanalytics[:], tags[:]], axis=1) \n",
    "\n",
    "tags = dfanalytics['metrics2'].apply(pd.Series)\n",
    "tags = tags.rename(columns = lambda x : 'metrics3')\n",
    "dfanalytics = pd.concat([dfanalytics[:], tags[:]], axis=1) \n",
    "\n",
    "tags = dfanalytics['metrics3'].apply(pd.Series)\n",
    "tags = tags.rename(columns = lambda x : 'metrics4')\n",
    "dfanalytics = pd.concat([dfanalytics[:], tags[:]], axis=1)"
   ]
  },
  {
   "cell_type": "code",
   "execution_count": 5,
   "metadata": {},
   "outputs": [],
   "source": [
    "dfanalytics['organicsession'] = pd.to_numeric(dfanalytics['metrics4'])\n",
    "dfanalytics = dfanalytics.drop(\"dimensions\",1)\n",
    "dfanalytics = dfanalytics.drop(\"metrics\",1)\n",
    "dfanalytics = dfanalytics.drop(\"metrics2\",1)\n",
    "dfanalytics = dfanalytics.drop(\"metrics3\",1)\n",
    "dfanalytics['articleidlandingpage'] = dfanalytics['landingpage'].str.replace(\".*-id\",\"\").str.replace(\"html.*\",\"\").str.replace(\"[^0-9]\",\"\");\n",
    "dfanalytics = dfanalytics.drop(\"landingpage\",1)"
   ]
  },
  {
   "cell_type": "code",
   "execution_count": 6,
   "metadata": {},
   "outputs": [],
   "source": [
    "dfanalytics = pd.pivot_table(dfanalytics,index=['articleidlandingpage'], values=['organicsession'], aggfunc='sum')\n",
    "dfanalytics.fillna(0, inplace=True)\n",
    "dfanalytics.reset_index(inplace=True)\n",
    "#dfanalytics"
   ]
  },
  {
   "cell_type": "code",
   "execution_count": 7,
   "metadata": {
    "scrolled": false
   },
   "outputs": [],
   "source": [
    "mergeddf = pd.merge(dfsitemap, dfanalytics, left_on='articleid', right_on='articleidlandingpage')\n",
    "mergeddf = mergeddf.drop(\"articleidlandingpage\",1)\n",
    "#mergeddf"
   ]
  },
  {
   "cell_type": "code",
   "execution_count": 8,
   "metadata": {},
   "outputs": [
    {
     "name": "stderr",
     "output_type": "stream",
     "text": [
      "/Users/wio/anaconda/lib/python2.7/site-packages/ipykernel/__main__.py:5: DeprecationWarning: update is deprecated. Use replace_one, update_one or update_many instead.\n",
      "/Users/wio/anaconda/lib/python2.7/site-packages/ipykernel/__main__.py:28: DeprecationWarning: update is deprecated. Use replace_one, update_one or update_many instead.\n",
      "/Users/wio/anaconda/lib/python2.7/site-packages/ipykernel/__main__.py:31: DeprecationWarning: update is deprecated. Use replace_one, update_one or update_many instead.\n",
      "/Users/wio/anaconda/lib/python2.7/site-packages/ipykernel/__main__.py:32: DeprecationWarning: update is deprecated. Use replace_one, update_one or update_many instead.\n",
      "/Users/wio/anaconda/lib/python2.7/site-packages/ipykernel/__main__.py:34: DeprecationWarning: update is deprecated. Use replace_one, update_one or update_many instead.\n"
     ]
    }
   ],
   "source": [
    "for index, row in mergeddf.iterrows():\n",
    "    url = row['url']\n",
    "    sessions = row['organicsession']\n",
    "    \n",
    "    collsitemap.update({'url':''+url},{'$push': {'traffic':{'timestamp':str(x),'organic':int(sessions)}}})\n",
    "#    collsitemap.find_one_and_update({'url':''+url},{'$set': {'last4':'0,0,30,80'}})\n",
    "#    collsitemap.find_one_and_update({'url':''+url},{'$set': {'insitemap':1}})\n",
    "  \n",
    "    last4 = row['last4']\n",
    "    sumintval = 0\n",
    "    for val in last4.split(','):\n",
    "        sumintval = sumintval + int(val)\n",
    "    \n",
    "    try:\n",
    "        avrintval = (sumintval * 1.0) / 4\n",
    "        diff = (sessions * 1.0)-avrintval\n",
    "        prozent = (diff / (sessions * 1.0))*100\n",
    "    except: \n",
    "        prozent = 100\n",
    "\n",
    "#    print \"sessions \" + str(sessions)\n",
    "#    print \"avrintval \" + str(avrintval)\n",
    "#    print \"(sessions-avrintval) \" + str(sessions-avrintval)\n",
    "#    print \"url \" + str(url)\n",
    "        \n",
    "    last3 = last4.split(',', 1)[1]\n",
    "    newlast4 = last3 + \",\" + str(sessions)   \n",
    "    collsitemap.update({'url':''+url},{'$set': {'last4':''+newlast4}})\n",
    "   \n",
    "    if < 10:\n",
    "        collsitemap.update({'url':''+url},{'$set': {'insitemap':0}})\n",
    "        collsitemap.update({'url':''+url},{'$set': {'firstdropat':str(x)}})\n",
    "    else:\n",
    "        collsitemap.update({'url':''+url},{'$set': {'insitemap':1}})\n",
    "        \n",
    "\n",
    "  "
   ]
  },
  {
   "cell_type": "code",
   "execution_count": null,
   "metadata": {
    "collapsed": true
   },
   "outputs": [],
   "source": []
  },
  {
   "cell_type": "code",
   "execution_count": null,
   "metadata": {
    "collapsed": true
   },
   "outputs": [],
   "source": []
  },
  {
   "cell_type": "code",
   "execution_count": null,
   "metadata": {
    "collapsed": true
   },
   "outputs": [],
   "source": []
  },
  {
   "cell_type": "code",
   "execution_count": null,
   "metadata": {
    "collapsed": true
   },
   "outputs": [],
   "source": []
  },
  {
   "cell_type": "code",
   "execution_count": null,
   "metadata": {
    "collapsed": true
   },
   "outputs": [],
   "source": []
  }
 ],
 "metadata": {
  "kernelspec": {
   "display_name": "Python 3",
   "language": "python",
   "name": "python3"
  },
  "language_info": {
   "codemirror_mode": {
    "name": "ipython",
    "version": 3
   },
   "file_extension": ".py",
   "mimetype": "text/x-python",
   "name": "python",
   "nbconvert_exporter": "python",
   "pygments_lexer": "ipython3",
   "version": "3.7.2"
  }
 },
 "nbformat": 4,
 "nbformat_minor": 2
}
