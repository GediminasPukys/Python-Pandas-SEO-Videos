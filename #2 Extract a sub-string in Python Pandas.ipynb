{
 "cells": [
  {
   "cell_type": "code",
   "execution_count": null,
   "metadata": {},
   "outputs": [],
   "source": [
    "# Check documentation: \n",
    "# https://pandas.pydata.org/pandas-docs/stable/reference/api/pandas.Series.str.extract.html\n",
    "#\n",
    "# Video about this notebook: \n",
    "# https://www.youtube.com/watch?v=xhNSDQ1dbBA"
   ]
  },
  {
   "cell_type": "code",
   "execution_count": 58,
   "metadata": {},
   "outputs": [],
   "source": [
    "import pandas as pd"
   ]
  },
  {
   "cell_type": "code",
   "execution_count": 59,
   "metadata": {},
   "outputs": [],
   "source": [
    "dfTestCSV = pd.DataFrame(pd.read_csv('./dfanalyticstestdata1.csv', header=2, sep=\"\\t\", index_col=0))"
   ]
  },
  {
   "cell_type": "code",
   "execution_count": 60,
   "metadata": {},
   "outputs": [
    {
     "data": {
      "text/html": [
       "<div>\n",
       "<style scoped>\n",
       "    .dataframe tbody tr th:only-of-type {\n",
       "        vertical-align: middle;\n",
       "    }\n",
       "\n",
       "    .dataframe tbody tr th {\n",
       "        vertical-align: top;\n",
       "    }\n",
       "\n",
       "    .dataframe thead th {\n",
       "        text-align: right;\n",
       "    }\n",
       "</style>\n",
       "<table border=\"1\" class=\"dataframe\">\n",
       "  <thead>\n",
       "    <tr style=\"text-align: right;\">\n",
       "      <th></th>\n",
       "      <th>ga:pagePath</th>\n",
       "      <th>ga:pageviews</th>\n",
       "      <th>ID_GA</th>\n",
       "    </tr>\n",
       "  </thead>\n",
       "  <tbody>\n",
       "    <tr>\n",
       "      <th>0</th>\n",
       "      <td>/auto/-Oh-slug-slug-why-are-you-slug-id31218.html</td>\n",
       "      <td>3</td>\n",
       "      <td>31218</td>\n",
       "    </tr>\n",
       "    <tr>\n",
       "      <th>1</th>\n",
       "      <td>/auto/-onboarding-story-id26545.html</td>\n",
       "      <td>1</td>\n",
       "      <td>26545</td>\n",
       "    </tr>\n",
       "    <tr>\n",
       "      <th>2</th>\n",
       "      <td>/auto/abgefahren/Test-Zattoo-Sandro-Überzeile-...</td>\n",
       "      <td>10</td>\n",
       "      <td>30770</td>\n",
       "    </tr>\n",
       "    <tr>\n",
       "      <th>3</th>\n",
       "      <td>/auto/autosalon/autosalon-story-ferrari-id3146...</td>\n",
       "      <td>8</td>\n",
       "      <td>31463</td>\n",
       "    </tr>\n",
       "    <tr>\n",
       "      <th>4</th>\n",
       "      <td>/auto/Über-999-Stufen-und-durch-99-Haarnadel-K...</td>\n",
       "      <td>2</td>\n",
       "      <td>31288</td>\n",
       "    </tr>\n",
       "  </tbody>\n",
       "</table>\n",
       "</div>"
      ],
      "text/plain": [
       "                                         ga:pagePath  ga:pageviews  ID_GA\n",
       "0  /auto/-Oh-slug-slug-why-are-you-slug-id31218.html             3  31218\n",
       "1               /auto/-onboarding-story-id26545.html             1  26545\n",
       "2  /auto/abgefahren/Test-Zattoo-Sandro-Überzeile-...            10  30770\n",
       "3  /auto/autosalon/autosalon-story-ferrari-id3146...             8  31463\n",
       "4  /auto/Über-999-Stufen-und-durch-99-Haarnadel-K...             2  31288"
      ]
     },
     "execution_count": 60,
     "metadata": {},
     "output_type": "execute_result"
    }
   ],
   "source": [
    "dfTestCSV['ID_GA'] = dfTestCSV['ga:pagePath'].str.extract('(?:.*id)([0-9]+)(?:.html)')\n",
    "dfTestCSV.head(5)"
   ]
  },
  {
   "cell_type": "code",
   "execution_count": null,
   "metadata": {},
   "outputs": [],
   "source": []
  },
  {
   "cell_type": "code",
   "execution_count": null,
   "metadata": {},
   "outputs": [],
   "source": []
  },
  {
   "cell_type": "code",
   "execution_count": null,
   "metadata": {},
   "outputs": [],
   "source": []
  }
 ],
 "metadata": {
  "kernelspec": {
   "display_name": "Python 3",
   "language": "python",
   "name": "python3"
  },
  "language_info": {
   "codemirror_mode": {
    "name": "ipython",
    "version": 3
   },
   "file_extension": ".py",
   "mimetype": "text/x-python",
   "name": "python",
   "nbconvert_exporter": "python",
   "pygments_lexer": "ipython3",
   "version": "3.7.2"
  }
 },
 "nbformat": 4,
 "nbformat_minor": 2
}
